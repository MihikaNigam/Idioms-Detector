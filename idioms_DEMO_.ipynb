{
  "nbformat": 4,
  "nbformat_minor": 0,
  "metadata": {
    "colab": {
      "provenance": []
    },
    "kernelspec": {
      "name": "python3",
      "display_name": "Python 3"
    },
    "language_info": {
      "name": "python"
    }
  },
  "cells": [
    {
      "cell_type": "code",
      "execution_count": null,
      "metadata": {
        "id": "lF6F-jb0crz5"
      },
      "outputs": [],
      "source": [
        "import json\n",
        "import spacy\n",
        "import nltk\n",
        "from difflib import SequenceMatcher\n",
        "from spacy import displacy"
      ]
    },
    {
      "cell_type": "markdown",
      "source": [
        "# Data Fetching & Pre Processing"
      ],
      "metadata": {
        "id": "BhHddjQLcuvZ"
      }
    },
    {
      "cell_type": "code",
      "source": [
        "dataset_path = '/content/idiom_repository_all.json'\n",
        "with open(dataset_path,'r') as file:\n",
        "  data=json.load(file)"
      ],
      "metadata": {
        "id": "EMhig-cq25-i"
      },
      "execution_count": null,
      "outputs": []
    },
    {
      "cell_type": "code",
      "source": [
        "len(data)"
      ],
      "metadata": {
        "colab": {
          "base_uri": "https://localhost:8080/"
        },
        "id": "-XjZHzDegyCZ",
        "outputId": "8bb2423a-2415-475c-885b-75cf94e8be0b"
      },
      "execution_count": null,
      "outputs": [
        {
          "output_type": "execute_result",
          "data": {
            "text/plain": [
              "9721"
            ]
          },
          "metadata": {},
          "execution_count": 90
        }
      ]
    },
    {
      "cell_type": "code",
      "source": [
        "#cleaning the data\n",
        "\n",
        "data=[idiom for idiom in data if idiom[\"entry\"]!=[] ]\n",
        "len(data)"
      ],
      "metadata": {
        "id": "FNYXShJlgTjR",
        "colab": {
          "base_uri": "https://localhost:8080/"
        },
        "outputId": "f3079e58-b0ec-4c6b-c962-ea00a49e3e91"
      },
      "execution_count": null,
      "outputs": [
        {
          "output_type": "execute_result",
          "data": {
            "text/plain": [
              "9514"
            ]
          },
          "metadata": {},
          "execution_count": 122
        }
      ]
    },
    {
      "cell_type": "code",
      "source": [
        "# @title\n",
        "#testing data=(sentences(usages),idiom)\n",
        "test_data={}\n",
        "for idiom in data:\n",
        "  entries= idiom['entry']\n",
        "  for e in entries:\n",
        "    usages=e['usages'][0]\n",
        "    for sent in usages:\n",
        "      test_data[sent]=idiom['idiom']\n",
        "test_data"
      ],
      "metadata": {
        "id": "kuEetFX4ikgy",
        "cellView": "form"
      },
      "execution_count": null,
      "outputs": []
    },
    {
      "cell_type": "markdown",
      "source": [
        "# Detection Algorithm"
      ],
      "metadata": {
        "id": "V_Ql6vkehNza"
      }
    },
    {
      "cell_type": "code",
      "source": [
        "nlp = spacy.load(\"en_core_web_sm\")"
      ],
      "metadata": {
        "id": "JzAHrS7WjQpA"
      },
      "execution_count": null,
      "outputs": []
    },
    {
      "cell_type": "code",
      "source": [
        "sentence = \"John was painting the big town red\"\n",
        "doc = nlp(sentence)\n",
        "\n",
        "# Visualize the dependency parse tree\n",
        "displacy.render(doc, style=\"dep\", jupyter=True)\n",
        "# Save the dependency parse tree visualization as an image\n",
        "displacy.render(doc, style=\"dep\", jupyter=False, options={\"distance\": 90})\n",
        "image_path = \"dependency_parse_tree.png\"\n",
        "displacy.serve(doc, style=\"dep\", options={\"distance\": 90})"
      ],
      "metadata": {
        "colab": {
          "base_uri": "https://localhost:8080/",
          "height": 615
        },
        "id": "L31WBGJ2kUgX",
        "outputId": "165bbaec-e6ca-4fa5-b049-562bbee77da3"
      },
      "execution_count": null,
      "outputs": [
        {
          "output_type": "display_data",
          "data": {
            "text/plain": [
              "<IPython.core.display.HTML object>"
            ],
            "text/html": [
              "<span class=\"tex2jax_ignore\"><svg xmlns=\"http://www.w3.org/2000/svg\" xmlns:xlink=\"http://www.w3.org/1999/xlink\" xml:lang=\"en\" id=\"12199dceaff24406872f06ce66ccc79f-0\" class=\"displacy\" width=\"1275\" height=\"487.0\" direction=\"ltr\" style=\"max-width: none; height: 487.0px; color: #000000; background: #ffffff; font-family: Arial; direction: ltr\">\n",
              "<text class=\"displacy-token\" fill=\"currentColor\" text-anchor=\"middle\" y=\"397.0\">\n",
              "    <tspan class=\"displacy-word\" fill=\"currentColor\" x=\"50\">John</tspan>\n",
              "    <tspan class=\"displacy-tag\" dy=\"2em\" fill=\"currentColor\" x=\"50\">PROPN</tspan>\n",
              "</text>\n",
              "\n",
              "<text class=\"displacy-token\" fill=\"currentColor\" text-anchor=\"middle\" y=\"397.0\">\n",
              "    <tspan class=\"displacy-word\" fill=\"currentColor\" x=\"225\">was</tspan>\n",
              "    <tspan class=\"displacy-tag\" dy=\"2em\" fill=\"currentColor\" x=\"225\">AUX</tspan>\n",
              "</text>\n",
              "\n",
              "<text class=\"displacy-token\" fill=\"currentColor\" text-anchor=\"middle\" y=\"397.0\">\n",
              "    <tspan class=\"displacy-word\" fill=\"currentColor\" x=\"400\">painting</tspan>\n",
              "    <tspan class=\"displacy-tag\" dy=\"2em\" fill=\"currentColor\" x=\"400\">VERB</tspan>\n",
              "</text>\n",
              "\n",
              "<text class=\"displacy-token\" fill=\"currentColor\" text-anchor=\"middle\" y=\"397.0\">\n",
              "    <tspan class=\"displacy-word\" fill=\"currentColor\" x=\"575\">the</tspan>\n",
              "    <tspan class=\"displacy-tag\" dy=\"2em\" fill=\"currentColor\" x=\"575\">DET</tspan>\n",
              "</text>\n",
              "\n",
              "<text class=\"displacy-token\" fill=\"currentColor\" text-anchor=\"middle\" y=\"397.0\">\n",
              "    <tspan class=\"displacy-word\" fill=\"currentColor\" x=\"750\">big</tspan>\n",
              "    <tspan class=\"displacy-tag\" dy=\"2em\" fill=\"currentColor\" x=\"750\">ADJ</tspan>\n",
              "</text>\n",
              "\n",
              "<text class=\"displacy-token\" fill=\"currentColor\" text-anchor=\"middle\" y=\"397.0\">\n",
              "    <tspan class=\"displacy-word\" fill=\"currentColor\" x=\"925\">town</tspan>\n",
              "    <tspan class=\"displacy-tag\" dy=\"2em\" fill=\"currentColor\" x=\"925\">NOUN</tspan>\n",
              "</text>\n",
              "\n",
              "<text class=\"displacy-token\" fill=\"currentColor\" text-anchor=\"middle\" y=\"397.0\">\n",
              "    <tspan class=\"displacy-word\" fill=\"currentColor\" x=\"1100\">red</tspan>\n",
              "    <tspan class=\"displacy-tag\" dy=\"2em\" fill=\"currentColor\" x=\"1100\">ADJ</tspan>\n",
              "</text>\n",
              "\n",
              "<g class=\"displacy-arrow\">\n",
              "    <path class=\"displacy-arc\" id=\"arrow-12199dceaff24406872f06ce66ccc79f-0-0\" stroke-width=\"2px\" d=\"M70,352.0 C70,177.0 390.0,177.0 390.0,352.0\" fill=\"none\" stroke=\"currentColor\"/>\n",
              "    <text dy=\"1.25em\" style=\"font-size: 0.8em; letter-spacing: 1px\">\n",
              "        <textPath xlink:href=\"#arrow-12199dceaff24406872f06ce66ccc79f-0-0\" class=\"displacy-label\" startOffset=\"50%\" side=\"left\" fill=\"currentColor\" text-anchor=\"middle\">nsubj</textPath>\n",
              "    </text>\n",
              "    <path class=\"displacy-arrowhead\" d=\"M70,354.0 L62,342.0 78,342.0\" fill=\"currentColor\"/>\n",
              "</g>\n",
              "\n",
              "<g class=\"displacy-arrow\">\n",
              "    <path class=\"displacy-arc\" id=\"arrow-12199dceaff24406872f06ce66ccc79f-0-1\" stroke-width=\"2px\" d=\"M245,352.0 C245,264.5 385.0,264.5 385.0,352.0\" fill=\"none\" stroke=\"currentColor\"/>\n",
              "    <text dy=\"1.25em\" style=\"font-size: 0.8em; letter-spacing: 1px\">\n",
              "        <textPath xlink:href=\"#arrow-12199dceaff24406872f06ce66ccc79f-0-1\" class=\"displacy-label\" startOffset=\"50%\" side=\"left\" fill=\"currentColor\" text-anchor=\"middle\">aux</textPath>\n",
              "    </text>\n",
              "    <path class=\"displacy-arrowhead\" d=\"M245,354.0 L237,342.0 253,342.0\" fill=\"currentColor\"/>\n",
              "</g>\n",
              "\n",
              "<g class=\"displacy-arrow\">\n",
              "    <path class=\"displacy-arc\" id=\"arrow-12199dceaff24406872f06ce66ccc79f-0-2\" stroke-width=\"2px\" d=\"M595,352.0 C595,177.0 915.0,177.0 915.0,352.0\" fill=\"none\" stroke=\"currentColor\"/>\n",
              "    <text dy=\"1.25em\" style=\"font-size: 0.8em; letter-spacing: 1px\">\n",
              "        <textPath xlink:href=\"#arrow-12199dceaff24406872f06ce66ccc79f-0-2\" class=\"displacy-label\" startOffset=\"50%\" side=\"left\" fill=\"currentColor\" text-anchor=\"middle\">det</textPath>\n",
              "    </text>\n",
              "    <path class=\"displacy-arrowhead\" d=\"M595,354.0 L587,342.0 603,342.0\" fill=\"currentColor\"/>\n",
              "</g>\n",
              "\n",
              "<g class=\"displacy-arrow\">\n",
              "    <path class=\"displacy-arc\" id=\"arrow-12199dceaff24406872f06ce66ccc79f-0-3\" stroke-width=\"2px\" d=\"M770,352.0 C770,264.5 910.0,264.5 910.0,352.0\" fill=\"none\" stroke=\"currentColor\"/>\n",
              "    <text dy=\"1.25em\" style=\"font-size: 0.8em; letter-spacing: 1px\">\n",
              "        <textPath xlink:href=\"#arrow-12199dceaff24406872f06ce66ccc79f-0-3\" class=\"displacy-label\" startOffset=\"50%\" side=\"left\" fill=\"currentColor\" text-anchor=\"middle\">amod</textPath>\n",
              "    </text>\n",
              "    <path class=\"displacy-arrowhead\" d=\"M770,354.0 L762,342.0 778,342.0\" fill=\"currentColor\"/>\n",
              "</g>\n",
              "\n",
              "<g class=\"displacy-arrow\">\n",
              "    <path class=\"displacy-arc\" id=\"arrow-12199dceaff24406872f06ce66ccc79f-0-4\" stroke-width=\"2px\" d=\"M420,352.0 C420,89.5 920.0,89.5 920.0,352.0\" fill=\"none\" stroke=\"currentColor\"/>\n",
              "    <text dy=\"1.25em\" style=\"font-size: 0.8em; letter-spacing: 1px\">\n",
              "        <textPath xlink:href=\"#arrow-12199dceaff24406872f06ce66ccc79f-0-4\" class=\"displacy-label\" startOffset=\"50%\" side=\"left\" fill=\"currentColor\" text-anchor=\"middle\">dobj</textPath>\n",
              "    </text>\n",
              "    <path class=\"displacy-arrowhead\" d=\"M920.0,354.0 L928.0,342.0 912.0,342.0\" fill=\"currentColor\"/>\n",
              "</g>\n",
              "\n",
              "<g class=\"displacy-arrow\">\n",
              "    <path class=\"displacy-arc\" id=\"arrow-12199dceaff24406872f06ce66ccc79f-0-5\" stroke-width=\"2px\" d=\"M420,352.0 C420,2.0 1100.0,2.0 1100.0,352.0\" fill=\"none\" stroke=\"currentColor\"/>\n",
              "    <text dy=\"1.25em\" style=\"font-size: 0.8em; letter-spacing: 1px\">\n",
              "        <textPath xlink:href=\"#arrow-12199dceaff24406872f06ce66ccc79f-0-5\" class=\"displacy-label\" startOffset=\"50%\" side=\"left\" fill=\"currentColor\" text-anchor=\"middle\">dobj</textPath>\n",
              "    </text>\n",
              "    <path class=\"displacy-arrowhead\" d=\"M1100.0,354.0 L1108.0,342.0 1092.0,342.0\" fill=\"currentColor\"/>\n",
              "</g>\n",
              "</svg></span>"
            ]
          },
          "metadata": {}
        },
        {
          "output_type": "stream",
          "name": "stdout",
          "text": [
            "\n",
            "Using the 'dep' visualizer\n",
            "Serving on http://0.0.0.0:5000 ...\n",
            "\n",
            "Shutting down server on port 5000.\n"
          ]
        }
      ]
    },
    {
      "cell_type": "code",
      "source": [
        "#look for phrase in its respective part of speech dataset\n",
        "\n",
        "def tag_idioms(phrase,pos, dataset):\n",
        "    doc1=nlp(phrase)\n",
        "    maxscore=0.84 if len(phrase.split())<=2 else 0.67; #more accuracy for 2 word phrases\n",
        "    idiom=None\n",
        "    for idiom_data in dataset:\n",
        "      i = idiom_data[\"idiom\"]\n",
        "      score=SequenceMatcher(None, i.lower(), phrase.lower()).ratio()\n",
        "      if maxscore<score:\n",
        "        maxscore=score\n",
        "        idiom=i\n",
        "    return idiom"
      ],
      "metadata": {
        "id": "h_pBdB48hYjW"
      },
      "execution_count": null,
      "outputs": []
    },
    {
      "cell_type": "code",
      "source": [
        "# to reduce look up time we divide the data set on pos\n",
        "\n",
        "def reduce_dataset(dataset,pos):\n",
        "    newdataset=[]\n",
        "    for idiom in dataset:\n",
        "      if idiom['entry']:\n",
        "        for entry_pos in idiom['entry']:\n",
        "          if pos in entry_pos['pos']:\n",
        "            newdataset.append(idiom)\n",
        "    return newdataset\n",
        "\n",
        "verb_dataset= reduce_dataset(data,'verb')\n",
        "noun_dataset= reduce_dataset(data,'noun')\n",
        "# propernoun_dataset= reduce_dataset(data,'proper noun')\n",
        "# pronoun_dataset= reduce_dataset(data,'pronoun')\n",
        "# adverb_dataset= reduce_dataset(data,'adverb')"
      ],
      "metadata": {
        "id": "Z5NlD5Ksjtt_"
      },
      "execution_count": null,
      "outputs": []
    },
    {
      "cell_type": "code",
      "source": [
        "# We try to fetch phrases from a complete sentence given in input\n",
        "\n",
        "def fetch_phrases(sentence):\n",
        "  doc=nlp(sentence)\n",
        "  phrases={'noun':set(),'verb':[]}\n",
        "  #noun phrase\n",
        "  for chunk in doc.noun_chunks:\n",
        "    phrases['noun'].add(chunk.text)\n",
        "  phrases['noun'] = list(phrases['noun'])\n",
        "  #verb phrase\n",
        "  phrases['verb']=verb_chunks(doc)\n",
        "  return phrases\n",
        "\n",
        "def verb_chunks(doc):\n",
        "  chunks=set()\n",
        "  for token in doc:\n",
        "    if token.pos_ in ['AUX','VERB']:\n",
        "      subtree=[node for node in token.subtree]\n",
        "      arcwords=[]\n",
        "      for child in subtree[subtree.index(token):]:\n",
        "        arcwords.append(child.text)\n",
        "        if child.dep_ in (['dobj','attr','aux','prt'] if  token.dep_ =='ROOT' else ['dobj','attr','prt']):\n",
        "          break\n",
        "      if token.dep_ =='ROOT' or token.dep_=='advcl':\n",
        "        chunks.add(' '.join([right.text for right in subtree[subtree.index(token):]]))\n",
        "      chunks.add(' '.join(arcwords))\n",
        "  return list() if chunks==set() else list(chunks)\n"
      ],
      "metadata": {
        "id": "Vr5gPwcako55"
      },
      "execution_count": null,
      "outputs": []
    },
    {
      "cell_type": "markdown",
      "source": [
        "# Testing & Evaluating"
      ],
      "metadata": {
        "id": "xeXM4kg-lR3h"
      }
    },
    {
      "cell_type": "code",
      "source": [
        "def process_text(text):\n",
        "  doc = nlp(text)\n",
        "  idioms=[]\n",
        "  for sentence in doc.sents:\n",
        "    phrases=fetch_phrases(sentence.text)\n",
        "    print(f'My phrases : \\n {phrases}')\n",
        "    for pos in phrases:\n",
        "      posdataset={}\n",
        "      if pos=='noun':\n",
        "        posdataset=noun_dataset\n",
        "      elif pos=='verb':\n",
        "        posdataset=verb_dataset\n",
        "      # elif pos=='adverb':\n",
        "      #   posdataset=adverb_dataset\n",
        "      for p in phrases[pos]:\n",
        "        i=tag_idioms(p,pos,posdataset)\n",
        "        if i:\n",
        "          idioms.append(i)\n",
        "  # print(idioms)\n",
        "  return [] if set(idioms)==set() else set(idioms)\n",
        "\n",
        "\n",
        "text=\"John was painting the town green\"\n",
        "process_text(text)"
      ],
      "metadata": {
        "colab": {
          "base_uri": "https://localhost:8080/"
        },
        "id": "bPep5ty2lV7s",
        "outputId": "5d21a5c7-efe4-4c21-dc84-d9c424d2c04b"
      },
      "execution_count": null,
      "outputs": [
        {
          "output_type": "stream",
          "name": "stdout",
          "text": [
            "My phrases : \n",
            " {'noun': ['John'], 'verb': ['painting the town green', 'was']}\n"
          ]
        },
        {
          "output_type": "execute_result",
          "data": {
            "text/plain": [
              "{'paint the town red'}"
            ]
          },
          "metadata": {},
          "execution_count": 129
        }
      ]
    },
    {
      "cell_type": "markdown",
      "source": [
        "**Calculating Accuracy**"
      ],
      "metadata": {
        "id": "PZ6roGZMy46z"
      }
    },
    {
      "cell_type": "code",
      "source": [
        "#testing with cases that may/may not match with our data set\n",
        "test_input = [\n",
        "    {\"when i came home, he let me have it for wrecking the car\": [\"let someone have it\"]},\n",
        "    {\"She walked to the store to buy some groceries.\": []},\n",
        "    {\"John and Mary painted the town red.\": [\"paint the town red\"]},\n",
        "    {\"The quick brown fox jumps over the lazy dog.\": []},\n",
        "    {\"He spilled the beans about the surprise party.\": [\"spill the beans\"]},\n",
        "    {\"The team hit the ground running after the pep talk.\": []},\n",
        "    {\"She decided to bite the bullet and face her fears.\": [\"bite the bullet\"]},\n",
        "    {\"The professor hit the nail on the head with his analysis.\": [\"hit the nail on the head\"]},\n",
        "    {\"The new employee quickly learned the ropes of the job\":[]},\n",
        "    {\"I was caught in the rain without an umbrella.\": []},\n",
        "    {\"The children played in the park until the sun went down.\": []},\n",
        "    {\"He found himself in hot water when he forgot about the deadline.\": [\"in hot water\"]},\n",
        "    {\"The singer hit the high notes effortlessly during the performance.\": []},\n",
        "    {\"She decided to take the bull by the horns and confront the issue directly.\": [\"take the bull by the horns\"]},\n",
        "    {\"The detective followed the clues to solve the mystery.\": []},\n",
        "    {\"The students put their heads together to come up with a creative solution.\": []},\n",
        "    {\"The chef added the final touch to the dish before serving it.\": [\"add the final touch\"]},\n",
        "    {\"The marathon runners crossed the finish line with smiles on their faces.\": []},\n",
        "    {\"He faced an uphill battle when trying to change the company's policies.\": [\"uphill battle\"]},\n",
        "    {\"The cat and the dog had a stare-down in the backyard.\": []},\n",
        "    {\"The construction workers broke ground on the new building project.\": [\"break ground\"]},\n",
        "    {\"After the long journey, they finally reached the light at the end of the tunnel.\": []},\n",
        "    {\"She tried to read between the lines of the mysterious letter.\": [\"read between the lines\"]},\n",
        "    {\"The comedian had the audience in stitches with his hilarious jokes.\": [\"in stitches\"]},\n",
        "    {\"The hikers reached the summit and enjoyed the breathtaking view.\": []},\n",
        "    {\"He had to play it by ear when the original plan fell through.\": [\"play it by ear\"]},\n",
        "    {\"The magician pulled a rabbit out of the hat to the amazement of the audience.\": [\"pull a rabbit out of the hat\"]},\n",
        "    {\"The project required attention to detail to ensure its success.\": [\"attention to detail\"]},\n",
        "    {\"She was on cloud nine after receiving the promotion at work.\": [\"on cloud nine\"]},\n",
        "    {\"The sun set, casting a golden hue across the tranquil lake.\": []},\n",
        "    {\"The mechanic fixed the car, and now it runs like a well-oiled machine.\": [\"well-oiled machine\"]},\n",
        "    {\"The artist threw in the towel after struggling with the difficult painting.\": [\"throw in the towel\"]},\n",
        "    {\"The friends had a heart-to-heart conversation about their feelings.\": [\"heart-to-heart\"]},\n",
        "    {\"The photographer captured the moment with a click of the camera.\": []},\n",
        "    {\"The project manager kept everyone on the same page with regular updates.\": [\"on the same page\"]},\n",
        "    {\"The boxer was knocked out, and the referee counted to ten.\": [\"count to ten\"]},\n",
        "    {\"She hit the jackpot when she found the rare collectible at the flea market.\": [\"hit the jackpot\"]},\n",
        "    {\"The entrepreneur decided to think outside the box for innovative solutions.\": [\"think outside the box\"]},\n",
        "    {\"The gardener planted the seeds and hoped for a fruitful harvest.\": [\"fruitful harvest\"]},\n",
        "    {\"The musician was in tune with the rhythm of the song.\": [\"in tune\"]},\n",
        "    {\"The students were in the dark about the surprise quiz until it started.\": [\"in the dark\"]},\n",
        "    {\"The chef added a pinch of salt to enhance the flavor of the dish.\": [\"pinch of salt\"]},\n",
        "    {\"The athlete was on thin ice with the coach after missing practice.\": [\"on thin ice\"]},\n",
        "    {\"The friends built bridges instead of walls to strengthen their relationships.\": [\"build bridges\"]}\n",
        "]"
      ],
      "metadata": {
        "id": "SVy2fT1j6W18"
      },
      "execution_count": null,
      "outputs": []
    },
    {
      "cell_type": "code",
      "source": [
        "for entry in test_input:\n",
        "  sentence, idiom = list(entry.items())[0]\n",
        "  print(f\"Expected Output : {idiom}\")\n",
        "  print(f\"Our Output : {process_text(sentence)}\\n\\n\")"
      ],
      "metadata": {
        "colab": {
          "base_uri": "https://localhost:8080/"
        },
        "id": "Gm_BtMEZ-WrP",
        "outputId": "869de5bd-c949-427a-9dfc-dff48596bc0f"
      },
      "execution_count": null,
      "outputs": [
        {
          "output_type": "stream",
          "name": "stdout",
          "text": [
            "Expected Output : ['let someone have it']\n",
            "My phrases : \n",
            " {'noun': ['i', 'it', 'the car', 'me', 'he'], 'verb': ['let me have it', 'wrecking the car', 'let me have it for wrecking the car', 'have it', 'came home']}\n",
            "Our Output : {'let them have it', 'have at'}\n",
            "\n",
            "\n",
            "Expected Output : []\n",
            "My phrases : \n",
            " {'noun': ['the store', 'She', 'some groceries'], 'verb': ['walked to the store to buy some groceries .', 'buy some groceries', 'walked to the store to']}\n",
            "Our Output : []\n",
            "\n",
            "\n",
            "Expected Output : ['paint the town red']\n",
            "My phrases : \n",
            " {'noun': ['John', 'Mary', 'the town red'], 'verb': ['painted the town red', 'painted the town red .']}\n",
            "Our Output : {'paint the town red'}\n",
            "\n",
            "\n",
            "Expected Output : []\n",
            "My phrases : \n",
            " {'noun': ['the lazy dog', 'The quick brown fox'], 'verb': ['jumps over the lazy dog .']}\n",
            "Our Output : []\n",
            "\n",
            "\n",
            "Expected Output : ['spill the beans']\n",
            "My phrases : \n",
            " {'noun': ['He', 'the surprise party', 'the beans'], 'verb': ['spilled the beans', 'spilled the beans about the surprise party .']}\n",
            "Our Output : {'spill the tea'}\n",
            "\n",
            "\n",
            "Expected Output : []\n",
            "My phrases : \n",
            " {'noun': ['the ground', 'the pep talk', 'The team'], 'verb': ['hit the ground', 'running after the pep talk', 'hit the ground running after the pep talk .']}\n",
            "Our Output : {'hit the road', 'hit the ground running'}\n",
            "\n",
            "\n",
            "Expected Output : ['bite the bullet']\n",
            "My phrases : \n",
            " {'noun': ['her fears', 'She', 'the bullet'], 'verb': ['decided to bite the bullet and face her fears .', 'bite the bullet', 'decided to', 'face her fears']}\n",
            "Our Output : {'bite the bullet'}\n",
            "\n",
            "\n",
            "Expected Output : ['hit the nail on the head']\n",
            "My phrases : \n",
            " {'noun': ['the nail', 'The professor', 'the head', 'his analysis'], 'verb': ['hit the nail on the head with his analysis .', 'hit the nail']}\n",
            "Our Output : {'hit the trail', 'other head', 'hit the nail on the head'}\n",
            "\n",
            "\n",
            "Expected Output : []\n",
            "My phrases : \n",
            " {'noun': ['the ropes', 'the job', 'The new employee'], 'verb': ['learned the ropes', 'learned the ropes of the job']}\n",
            "Our Output : {'bend the rules'}\n",
            "\n",
            "\n",
            "Expected Output : []\n",
            "My phrases : \n",
            " {'noun': ['the rain', 'an umbrella', 'I'], 'verb': ['caught in the rain without an umbrella .', 'was']}\n",
            "Our Output : []\n",
            "\n",
            "\n",
            "Expected Output : []\n",
            "My phrases : \n",
            " {'noun': ['the sun', 'The children', 'the park'], 'verb': ['played in the park until the sun went down .', 'played in the park until the sun went down', 'went down']}\n",
            "Our Output : []\n",
            "\n",
            "\n",
            "Expected Output : ['in hot water']\n",
            "My phrases : \n",
            " {'noun': ['the deadline', 'He', 'himself', 'hot water', 'he'], 'verb': ['found himself in hot water when he forgot about the deadline .', 'found himself', 'forgot about the deadline']}\n",
            "Our Output : {'hot water'}\n",
            "\n",
            "\n",
            "Expected Output : []\n",
            "My phrases : \n",
            " {'noun': ['the high notes', 'The singer', 'the performance'], 'verb': ['hit the high notes effortlessly during the performance .', 'hit the high notes']}\n",
            "Our Output : {'the finger', 'hit the big time', 'high note'}\n",
            "\n",
            "\n",
            "Expected Output : ['take the bull by the horns']\n",
            "My phrases : \n",
            " {'noun': ['the issue', 'She', 'the bull', 'the horns'], 'verb': ['confront the issue', 'decided to', 'take the bull', 'decided to take the bull by the horns and confront the issue directly .']}\n",
            "Our Output : {'take the fall'}\n",
            "\n",
            "\n",
            "Expected Output : []\n",
            "My phrases : \n",
            " {'noun': ['The detective', 'the mystery', 'the clues'], 'verb': ['followed the clues to solve the mystery .', 'solve the mystery', 'followed the clues']}\n",
            "Our Output : []\n",
            "\n",
            "\n",
            "Expected Output : []\n",
            "My phrases : \n",
            " {'noun': ['a creative solution', 'their heads', 'The students'], 'verb': ['come up', 'put their heads together to come up with a creative solution .', 'put their heads', 'come up with a creative solution']}\n",
            "Our Output : {'other head', 'butt heads', 'come up'}\n",
            "\n",
            "\n",
            "Expected Output : ['add the final touch']\n",
            "My phrases : \n",
            " {'noun': ['it', 'the final touch', 'the dish', 'The chef'], 'verb': ['added the final touch to the dish before serving it .', 'added the final touch', 'serving it']}\n",
            "Our Output : []\n",
            "\n",
            "\n",
            "Expected Output : []\n",
            "My phrases : \n",
            " {'noun': ['their faces', 'the finish line', 'smiles', 'The marathon runners'], 'verb': ['crossed the finish line with smiles on their faces .', 'crossed the finish line']}\n",
            "Our Output : {'cross the line'}\n",
            "\n",
            "\n",
            "Expected Output : ['uphill battle']\n",
            "My phrases : \n",
            " {'noun': ['He', 'an uphill battle', \"the company's policies\"], 'verb': [\"trying to change the company 's policies\", 'faced an uphill battle', \"faced an uphill battle when trying to change the company 's policies .\", \"change the company 's policies\"]}\n",
            "Our Output : {'uphill battle'}\n",
            "\n",
            "\n",
            "Expected Output : []\n",
            "My phrases : \n",
            " {'noun': ['the dog', 'a stare-down', 'the backyard', 'The cat'], 'verb': ['had a stare - down in the backyard .', 'had a stare - down']}\n",
            "Our Output : []\n",
            "\n",
            "\n",
            "Expected Output : ['break ground']\n",
            "My phrases : \n",
            " {'noun': ['ground', 'The construction workers', 'the new building project'], 'verb': ['broke ground', 'broke ground on the new building project .']}\n",
            "Our Output : []\n",
            "\n",
            "\n",
            "Expected Output : []\n",
            "My phrases : \n",
            " {'noun': ['the end', 'the tunnel', 'they', 'the long journey', 'the light'], 'verb': ['reached the light at the end of the tunnel .', 'reached the light']}\n",
            "Our Output : {'The End', 'see the light'}\n",
            "\n",
            "\n",
            "Expected Output : ['read between the lines']\n",
            "My phrases : \n",
            " {'noun': ['the lines', 'She', 'the mysterious letter'], 'verb': ['read between the lines of the mysterious letter', 'tried to', 'tried to read between the lines of the mysterious letter .']}\n",
            "Our Output : []\n",
            "\n",
            "\n",
            "Expected Output : ['in stitches']\n",
            "My phrases : \n",
            " {'noun': ['his hilarious jokes', 'The comedian', 'the audience', 'stitches'], 'verb': ['had the audience in stitches with his hilarious jokes .', 'had the audience']}\n",
            "Our Output : {'hold the line'}\n",
            "\n",
            "\n",
            "Expected Output : []\n",
            "My phrases : \n",
            " {'noun': ['The hikers', 'the breathtaking view', 'the summit'], 'verb': ['reached the summit', 'reached the summit and enjoyed the breathtaking view .', 'enjoyed the breathtaking view']}\n",
            "Our Output : []\n",
            "\n",
            "\n",
            "Expected Output : ['play it by ear']\n",
            "My phrases : \n",
            " {'noun': ['He', 'it', 'the original plan', 'ear'], 'verb': ['had to', 'had to play it by ear when the original plan fell through .', 'fell through', 'play it']}\n",
            "Our Output : {'fall through'}\n",
            "\n",
            "\n",
            "Expected Output : ['pull a rabbit out of the hat']\n",
            "My phrases : \n",
            " {'noun': ['a rabbit', 'The magician', 'the audience', 'the hat', 'the amazement'], 'verb': ['pulled a rabbit out of the hat to the amazement of the audience .', 'pulled a rabbit']}\n",
            "Our Output : []\n",
            "\n",
            "\n",
            "Expected Output : ['attention to detail']\n",
            "My phrases : \n",
            " {'noun': ['detail', 'The project', 'its success', 'attention'], 'verb': ['ensure its success', 'required attention to detail to ensure its success .', 'required attention']}\n",
            "Our Output : []\n",
            "\n",
            "\n",
            "Expected Output : ['on cloud nine']\n",
            "My phrases : \n",
            " {'noun': ['work', 'the promotion', 'She', 'cloud'], 'verb': ['was on cloud nine after receiving the promotion at work .', 'receiving the promotion', 'was on cloud nine after receiving the promotion']}\n",
            "Our Output : []\n",
            "\n",
            "\n",
            "Expected Output : []\n",
            "My phrases : \n",
            " {'noun': ['The sun set', 'a golden hue', 'the tranquil lake'], 'verb': ['casting a golden hue across the tranquil lake', 'casting a golden hue']}\n",
            "Our Output : {'golden rule'}\n",
            "\n",
            "\n",
            "Expected Output : ['well-oiled machine']\n",
            "My phrases : \n",
            " {'noun': ['The mechanic', 'the car', 'it', 'a well-oiled machine'], 'verb': ['runs like a well - oiled machine .', 'fixed the car , and now it runs like a well - oiled machine .', 'oiled', 'fixed the car']}\n",
            "Our Output : {'raise the bar'}\n",
            "\n",
            "\n",
            "Expected Output : ['throw in the towel']\n",
            "My phrases : \n",
            " {'noun': ['the towel', 'The artist', 'the difficult painting'], 'verb': ['threw in', 'struggling with the difficult painting', 'threw in the towel after struggling with the difficult painting .']}\n",
            "Our Output : {'throw in'}\n",
            "\n",
            "\n",
            "Expected Output : ['heart-to-heart']\n",
            "My phrases : \n",
            " {'noun': ['The friends', 'heart', 'their feelings'], 'verb': ['had a heart - to - heart conversation', 'had a heart - to - heart conversation about their feelings .']}\n",
            "Our Output : []\n",
            "\n",
            "\n",
            "Expected Output : []\n",
            "My phrases : \n",
            " {'noun': ['a click', 'the camera', 'The photographer', 'the moment'], 'verb': ['captured the moment with a click of the camera .', 'captured the moment']}\n",
            "Our Output : []\n",
            "\n",
            "\n",
            "Expected Output : ['on the same page']\n",
            "My phrases : \n",
            " {'noun': ['the same page', 'everyone', 'The project manager', 'regular updates'], 'verb': ['kept everyone on the same page with regular updates .', 'kept everyone']}\n",
            "Our Output : []\n",
            "\n",
            "\n",
            "Expected Output : ['count to ten']\n",
            "My phrases : \n",
            " {'noun': ['The boxer', 'the referee'], 'verb': ['counted to ten .', 'knocked out', 'was', 'knocked out , and the referee counted to ten .']}\n",
            "Our Output : {'knock out'}\n",
            "\n",
            "\n",
            "Expected Output : ['hit the jackpot']\n",
            "My phrases : \n",
            " {'noun': ['the rare collectible', 'the flea market', 'she', 'She', 'the jackpot'], 'verb': ['hit the jackpot', 'found the rare collectible', 'hit the jackpot when she found the rare collectible at the flea market .', 'found the rare collectible at the flea market']}\n",
            "Our Output : {'hit the jackpot', 'meat market'}\n",
            "\n",
            "\n",
            "Expected Output : ['think outside the box']\n",
            "My phrases : \n",
            " {'noun': ['innovative solutions', 'The entrepreneur', 'the box'], 'verb': ['think outside the box for innovative solutions', 'decided to', 'decided to think outside the box for innovative solutions .']}\n",
            "Our Output : []\n",
            "\n",
            "\n",
            "Expected Output : ['fruitful harvest']\n",
            "My phrases : \n",
            " {'noun': ['a fruitful harvest', 'the seeds', 'The gardener'], 'verb': ['planted the seeds and hoped for a fruitful harvest .', 'planted the seeds', 'hoped for a fruitful harvest']}\n",
            "Our Output : []\n",
            "\n",
            "\n",
            "Expected Output : ['in tune']\n",
            "My phrases : \n",
            " {'noun': ['The musician', 'the song', 'the rhythm', 'tune'], 'verb': ['was in tune with the rhythm of the song .']}\n",
            "Our Output : []\n",
            "\n",
            "\n",
            "Expected Output : ['in the dark']\n",
            "My phrases : \n",
            " {'noun': ['it', 'the surprise quiz', 'The students', 'the dark'], 'verb': ['started', 'were in the dark about the surprise quiz until it started .']}\n",
            "Our Output : []\n",
            "\n",
            "\n",
            "Expected Output : ['pinch of salt']\n",
            "My phrases : \n",
            " {'noun': ['a pinch', 'The chef', 'salt', 'the flavor', 'the dish'], 'verb': ['enhance the flavor', 'added a pinch', 'added a pinch of salt to enhance the flavor of the dish .', 'enhance the flavor of the dish']}\n",
            "Our Output : {'have the floor'}\n",
            "\n",
            "\n",
            "Expected Output : ['on thin ice']\n",
            "My phrases : \n",
            " {'noun': ['The athlete', 'the coach', 'practice', 'thin ice'], 'verb': ['missing practice', 'was on thin ice with the coach after missing practice', 'was on thin ice with the coach after missing practice .']}\n",
            "Our Output : []\n",
            "\n",
            "\n",
            "Expected Output : ['build bridges']\n",
            "My phrases : \n",
            " {'noun': ['The friends', 'bridges', 'walls', 'their relationships'], 'verb': ['strengthen their relationships', 'built bridges instead of walls to strengthen their relationships .', 'built bridges']}\n",
            "Our Output : {'build bridges'}\n",
            "\n",
            "\n"
          ]
        }
      ]
    },
    {
      "cell_type": "code",
      "source": [
        "# @title\n",
        "def extract_phrases(text):\n",
        "    # Tokenization\n",
        "    tokens = nltk.word_tokenize(text)\n",
        "    # Part-of-Speech Tagging\n",
        "    pos_tags = nltk.pos_tag(tokens)\n",
        "\n",
        "    # Phrase Chunking\n",
        "    grammar = r\"\"\"\n",
        "        NP: {<DT>?<JJ>*<NN>}\n",
        "        ADJP: {<JJ>}\n",
        "        ADVP: {<RB>}\n",
        "        VP: {<VB.*>+<NP|PP|CLAUSE>*}\n",
        "    \"\"\"\n",
        "    chunk_parser = nltk.RegexpParser(grammar)\n",
        "    chunks = chunk_parser.parse(pos_tags)\n",
        "    # Extract phrases\n",
        "    phrases = []\n",
        "    for subtree in chunks.subtrees(filter=lambda t: t.label() in ['NP', 'ADJP', 'ADVP', 'VP']):\n",
        "        category = subtree.label()\n",
        "        phrase = \" \".join(word for word, tag in subtree.leaves())\n",
        "        phrases.append(\" \".join(word for word, tag in subtree.leaves()))\n",
        "        print(f\"{category}: {phrase}\")\n",
        "    return phrases\n",
        "\n",
        "# Example usage:\n",
        "text_to_process = 'My mom was feeling a bit under the weather'\n",
        "#\"Navigating through the labyrinth of life, Jake decided to bite the bullet and spill the beans about his secret project, letting the cat out of the bag. As he took the bull by the horns, he realized that he was walking on eggshells, hoping not to stir the hornet's nest. Despite facing an uphill battle, he knew that every cloud has a silver lining and that revealing the ace up his sleeve was a piece of cake. As he awaited the reaction, he kept his fingers crossed, knowing that the ball was in their court, and it was time to play his cards right.\"\n",
        "result = extract_phrases(text_to_process)\n",
        "\n",
        "print(\"Extracted Phrases:\")\n",
        "print(result)\n"
      ],
      "metadata": {
        "id": "l0A1tF4K-z2Z",
        "cellView": "form"
      },
      "execution_count": null,
      "outputs": []
    },
    {
      "cell_type": "code",
      "source": [
        "input_text=\"There is no idiom in this text\"\n",
        "process_text(input_text)"
      ],
      "metadata": {
        "id": "OuWmIc5v2mHl",
        "colab": {
          "base_uri": "https://localhost:8080/"
        },
        "outputId": "634dea2b-c03e-4b5c-9f37-4decacaa9db0"
      },
      "execution_count": null,
      "outputs": [
        {
          "output_type": "stream",
          "name": "stdout",
          "text": [
            "My phrases : \n",
            " {'noun': ['no idiom', 'this text'], 'verb': ['is no idiom in this text', 'is no idiom']}\n"
          ]
        },
        {
          "output_type": "execute_result",
          "data": {
            "text/plain": [
              "[]"
            ]
          },
          "metadata": {},
          "execution_count": 118
        }
      ]
    }
  ]
}